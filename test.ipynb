{
 "cells": [
  {
   "cell_type": "code",
   "execution_count": 1,
   "metadata": {},
   "outputs": [],
   "source": [
    "import xmltodict\n",
    "\n",
    "with open('ds_od_xml.xml') as f:\n",
    "    d = xmltodict.parse(f.read())"
   ]
  },
  {
   "cell_type": "code",
   "execution_count": 2,
   "metadata": {},
   "outputs": [],
   "source": [
    "from datetime import date, datetime\n",
    "\n",
    "YMD_FORMAT = '%Y-%m-%d'\n",
    "\n",
    "assert date(2022, 4, 29).strftime(YMD_FORMAT) == '2022-04-29'"
   ]
  },
  {
   "cell_type": "code",
   "execution_count": 3,
   "metadata": {},
   "outputs": [],
   "source": [
    "def get_parsed_value(d, k):\n",
    "    v = d[k]\n",
    "    if v is None:\n",
    "        return None\n",
    "    if 'DATE' in k:\n",
    "        return datetime.strptime(v, YMD_FORMAT)\n",
    "    if 'AMOUNT' in k:\n",
    "        return float(v)\n",
    "    return v"
   ]
  },
  {
   "cell_type": "code",
   "execution_count": 4,
   "metadata": {},
   "outputs": [],
   "source": [
    "from ds_types import Infraction\n",
    "from typing import List, Union\n",
    "\n",
    "\n",
    "def get_infractions(infraction_d_or_l: Union[List[dict], dict]) -> List[Infraction]:\n",
    "\n",
    "    if isinstance(infraction_d_or_l, dict):\n",
    "        infraction_d_l = [infraction_d_or_l]\n",
    "    else:\n",
    "        infraction_d_l = infraction_d_or_l\n",
    "\n",
    "    infractions: List[Infraction] = []\n",
    "    for infraction_d in infraction_d_l:\n",
    "        infraction = Infraction(\n",
    "            severity=get_parsed_value(infraction_d, 'SEVERITY'),\n",
    "            deficiency=get_parsed_value(infraction_d, 'DEFICIENCY'),\n",
    "            action=get_parsed_value(infraction_d, 'ACTION'),\n",
    "            court_outcome=get_parsed_value(infraction_d, 'COURT_OUTCOME'),\n",
    "            amount_fined=get_parsed_value(infraction_d, 'AMOUNT_FINED'),\n",
    "        )\n",
    "        infractions.append(infraction)\n",
    "\n",
    "    return infractions\n"
   ]
  },
  {
   "cell_type": "code",
   "execution_count": 5,
   "metadata": {},
   "outputs": [],
   "source": [
    "from ds_types import Establishment, Inspection, Infraction\n",
    "from typing import List\n",
    "\n",
    "for establishment_d in d['DINESAFE_DATA']['ESTABLISHMENT']:\n",
    "    inspections: List[Inspection] = []\n",
    "    for inspection_d in establishment_d['INSPECTION']:\n",
    "        inspection = Inspection(\n",
    "            status=get_parsed_value(inspection_d, 'STATUS'),\n",
    "            date=get_parsed_value(inspection_d, 'DATE'),\n",
    "            infraction=get_infractions(inspection_d.get('INFRACTION', []))\n",
    "        )\n",
    "        inspections.append(inspection)\n",
    "    establishment = Establishment(\n",
    "        id=get_parsed_value(establishment_d, 'ID'),\n",
    "        name=get_parsed_value(establishment_d, 'NAME'),\n",
    "        type=get_parsed_value(establishment_d, 'TYPE'),\n",
    "        address=get_parsed_value(establishment_d, 'ADDRESS'),\n",
    "        latitude=get_parsed_value(establishment_d, 'LATITUDE'),\n",
    "        longitude=get_parsed_value(establishment_d, 'LONGITUDE'),\n",
    "        status=get_parsed_value(establishment_d, 'STATUS'),\n",
    "        inspection=inspections,\n",
    "    )\n",
    "    break\n"
   ]
  }
 ],
 "metadata": {
  "kernelspec": {
   "display_name": "Python 3.9.8 64-bit",
   "language": "python",
   "name": "python3"
  },
  "language_info": {
   "codemirror_mode": {
    "name": "ipython",
    "version": 3
   },
   "file_extension": ".py",
   "mimetype": "text/x-python",
   "name": "python",
   "nbconvert_exporter": "python",
   "pygments_lexer": "ipython3",
   "version": "3.9.8"
  },
  "orig_nbformat": 4,
  "vscode": {
   "interpreter": {
    "hash": "949777d72b0d2535278d3dc13498b2535136f6dfe0678499012e853ee9abcab1"
   }
  }
 },
 "nbformat": 4,
 "nbformat_minor": 2
}
