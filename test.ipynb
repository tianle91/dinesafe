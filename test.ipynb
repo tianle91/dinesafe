{
 "cells": [
  {
   "cell_type": "code",
   "execution_count": 1,
   "metadata": {},
   "outputs": [],
   "source": [
    "import xmltodict\n",
    "\n",
    "with open('ds_od_xml.xml') as f:\n",
    "    ds_d = xmltodict.parse(f.read())"
   ]
  },
  {
   "cell_type": "code",
   "execution_count": 2,
   "metadata": {},
   "outputs": [],
   "source": [
    "from ds_types import Establishment, Inspection, Infraction, get_establishment\n",
    "from typing import List\n",
    "\n",
    "establishments = []\n",
    "for i, d in enumerate(ds_d['DINESAFE_DATA']['ESTABLISHMENT']):\n",
    "    try:\n",
    "        establishments.append(get_establishment(d))\n",
    "    except Exception as e:\n",
    "        print(e)\n",
    "        print(d)\n",
    "        break"
   ]
  }
 ],
 "metadata": {
  "kernelspec": {
   "display_name": "Python 3.9.8 64-bit",
   "language": "python",
   "name": "python3"
  },
  "language_info": {
   "codemirror_mode": {
    "name": "ipython",
    "version": 3
   },
   "file_extension": ".py",
   "mimetype": "text/x-python",
   "name": "python",
   "nbconvert_exporter": "python",
   "pygments_lexer": "ipython3",
   "version": "3.9.8"
  },
  "orig_nbformat": 4,
  "vscode": {
   "interpreter": {
    "hash": "949777d72b0d2535278d3dc13498b2535136f6dfe0678499012e853ee9abcab1"
   }
  }
 },
 "nbformat": 4,
 "nbformat_minor": 2
}
